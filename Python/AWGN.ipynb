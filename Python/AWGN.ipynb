{
 "cells": [
  {
   "cell_type": "code",
   "execution_count": null,
   "metadata": {},
   "outputs": [],
   "source": [
    "import numpy as np\n",
    "import PyUtils\n",
    "import cv2 \n",
    "import matplotlib.pyplot as plt\n",
    "from scipy import special"
   ]
  },
  {
   "cell_type": "code",
   "execution_count": 1,
   "metadata": {},
   "outputs": [
    {
     "data": {
      "text/plain": [
       "['/home/jioujiujiu/Desktop/AWGN',\n",
       " '/usr/lib/python310.zip',\n",
       " '/usr/lib/python3.10',\n",
       " '/usr/lib/python3.10/lib-dynload',\n",
       " '',\n",
       " '/home/jioujiujiu/.local/lib/python3.10/site-packages',\n",
       " '/usr/local/lib/python3.10/dist-packages',\n",
       " '/usr/lib/python3/dist-packages',\n",
       " '/home/jioujiujiu/.local/lib/python3.10/site-packages/IPython/extensions',\n",
       " '/home/jioujiujiu/.ipython']"
      ]
     },
     "execution_count": 1,
     "metadata": {},
     "output_type": "execute_result"
    }
   ],
   "source": [
    "import sys\n",
    "sys.path"
   ]
  },
  {
   "cell_type": "code",
   "execution_count": null,
   "metadata": {},
   "outputs": [],
   "source": [
    "Rx = PyUtils.GetMatFromBin(\"./build/Rx.bin\")\n",
    "RE,IM = cv2.split(Rx)\n",
    "plt.scatter(RE, IM, marker='.')\n",
    "plt.xlabel(\"RE\")\n",
    "plt.ylabel(\"IM\")\n",
    "plt.axhline(0, color='black')\n",
    "plt.axvline(0, color='black')"
   ]
  },
  {
   "cell_type": "code",
   "execution_count": null,
   "metadata": {},
   "outputs": [],
   "source": [
    "BER = PyUtils.GetMatFromBin(\"./build/BER.bin\")\n",
    "BER = np.resize(BER,(BER.shape[0],1))\n",
    "SNR_log = np.arange(0,BER.shape[0])*0.1\n",
    "SNR_log = np.resize(SNR_log, (BER.shape[0],1))\n",
    "SNR_lin = np.power(10, SNR_log/10)\n",
    "EbN0 = SNR_lin/2;\n",
    "EsN0_log = 10*np.log10(EbN0);\n",
    "BER_theo = 0.5*special.erfc(np.sqrt(EbN0))\n",
    "plt.plot(EsN0_log,np.log10(BER_theo))\n",
    "plt.plot(EsN0_log,np.log10(BER),'+')\n"
   ]
  },
  {
   "cell_type": "code",
   "execution_count": null,
   "metadata": {},
   "outputs": [],
   "source": []
  }
 ],
 "metadata": {
  "kernelspec": {
   "display_name": "Python 3",
   "language": "python",
   "name": "python3"
  },
  "language_info": {
   "codemirror_mode": {
    "name": "ipython",
    "version": 3
   },
   "file_extension": ".py",
   "mimetype": "text/x-python",
   "name": "python",
   "nbconvert_exporter": "python",
   "pygments_lexer": "ipython3",
   "version": "3.10.6"
  },
  "orig_nbformat": 4
 },
 "nbformat": 4,
 "nbformat_minor": 2
}
